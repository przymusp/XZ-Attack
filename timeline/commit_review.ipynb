{
 "cells": [
  {
   "cell_type": "code",
   "execution_count": 138,
   "id": "43efac1b-c3e2-42d6-8430-62177b507ed2",
   "metadata": {},
   "outputs": [],
   "source": [
    "import requests\n",
    "from collections import defaultdict\n",
    "from bs4 import BeautifulSoup\n",
    "\n",
    "with open(\"./review.html\", \"r\") as f:\n",
    "    soup = BeautifulSoup(f.read(), 'html.parser')\n",
    "\n",
    "timeline = defaultdict(lambda: defaultdict(list))\n",
    "for div in soup.find_all('div', class_=\"sect2\"):\n",
    "    for year in range(2022, 2025):\n",
    "        for month in range(1,13):\n",
    "\n",
    "            h3_id = f\"_{year}_{month:02}\"\n",
    "            h3_list = div.find_all('h3', id=h3_id)\n",
    "            if h3_list:\n",
    "                commit_info = {\"url\": \"\",\"status\": \"\"}\n",
    "\n",
    "                for tag in div.find_all(\"div\", class_=\"paragraph\"):\n",
    "                    commit = tag.find(\"a\")\n",
    "                    if commit:\n",
    "                        url = commit.get(\"href\")\n",
    "                        if \"github\" in url:\n",
    "                            if commit_info['url']:\n",
    "                                commit_info['url'] += \" to \"\n",
    "                            commit_info['url'] += url.split(\"/\")[-1]\n",
    "                    else:\n",
    "                        str = \"\".join(tag.stripped_strings)\n",
    "                        str = str.replace(\"\\n\", \" \")\n",
    "                        str = str.replace(\":\", \" \")\n",
    "                        commit_info['status'] = str\n",
    "                        if str.strip():\n",
    "                            if not commit_info['url']:\n",
    "                                commit_info['status'] += str\n",
    "                            else:\n",
    "                                timeline[year][month].append(commit_info)\n",
    "                            commit_info = {\"url\": \"\",\"status\": None}\n"
   ]
  },
  {
   "cell_type": "code",
   "execution_count": 139,
   "id": "de8be1b1-a627-490d-8b5a-aeaf911dcb1c",
   "metadata": {},
   "outputs": [],
   "source": [
    "with open(\"timeline.md\", \"w\") as fout:\n",
    "\n",
    "    fout.write(\"\"\"\n",
    "```mermaid\n",
    "timeline\n",
    "    title commits\n",
    "    \n",
    "\"\"\")\n",
    "    extra_dates = False\n",
    "\n",
    "    for year in timeline:\n",
    "        fout.write(f\"    section {year}\\n\")\n",
    "        \n",
    "        for month in timeline[year]:\n",
    "            for i, commit in enumerate(timeline[year][month]):\n",
    "                ret = \"         :\"\n",
    "                if i == 0:\n",
    "                    ret = f\"      {month:>2} :\" \n",
    "\n",
    "                if '203b008eb220208981902e0db541c02d1c1c9f5e' in commit['url']:\n",
    "                    ret += \" Gained trust\"\n",
    "                if \"to\" in commit['url']:\n",
    "                    ha = commit['url'].split(\" to \")\n",
    "                    ret += f\" {ha[0][:10]} to {ha[1][:10]} {commit['status']}\\n\"\n",
    "                else:    \n",
    "                    ret += f\" {commit['url'][:10]} {commit['status']}\\n\"\n",
    "                fout.write(ret)\n",
    "                \n",
    "    fout.write(\"\\n```\\n\")\n",
    "        "
   ]
  },
  {
   "cell_type": "code",
   "execution_count": 107,
   "id": "9676e640-2a6b-4903-9b73-d4554a9e397f",
   "metadata": {},
   "outputs": [
    {
     "name": "stdout",
     "output_type": "stream",
     "text": [
      "defaultdict(<function <lambda> at 0x74d47d79bce0>, {2023: defaultdict(<class 'list'>, {1: [{'url': '<b>Full trust</b>', 'status': ''}, {'url': '<b>Full trust</b>', 'status': ''}, {'url': '<b>Full trust</b>', 'status': ''}, {'url': '<b>Full trust</b>', 'status': ''}, {'url': 'e834e1e934ed0af673598d8c0c34afb2af56bee0', 'status': 'OK. Also, the VS project files aren’t present anymore.'}, {'url': '203b008eb220208981902e0db541c02d1c1c9f5e', 'status': 'OK.'}, {'url': 'f16e12d5e755d371247202fcccbcccd1ec16b2cf', 'status': 'OK.'}, {'url': '064cd385a716abc78d93a3612411a82d69ceb221', 'status': 'OK.'}, {'url': '84f9687cbae972c2c342e10bf69f8ec8f70ae111', 'status': 'He wanted to use liblzma’s internal headers in some tests and eventually I gave in. This required making those particular internal headers standalone in sense that they don’t include other internal headers.'}, {'url': '5c9fdd3bf53a9655f5eb2807d662b3af0d5e1865', 'status': 'OK enough.'}, {'url': '7c23c05befdcc73231c0d6632a7d943dbeaea1aa', 'status': 'OK.'}, {'url': '25035813d1d596fde692addc33e7f715f1fe55eb', 'status': 'These are OK together.'}, {'url': 'd1561c47ec8cd3844a785d3741dc932f9b9c5790', 'status': 'OK.'}, {'url': '123255b6ed15f4428b2aa92e4962015a5362f6bf', 'status': 'OK.'}, {'url': 'd3e11477053764c003eec2daa5198c747d70ff69', 'status': 'OK.'}, {'url': '6fcf4671b6047113c583a0919fc850987a4ec5f4', 'status': 'OK.'}, {'url': '6327a045f34d48fc5afc58ba0d32a82c94403049', 'status': 'Likely OK. The Doxyfile was updated later again anyway.'}, {'url': '9663141274e01592a281a7f2df5d7a31a1dac8bf', 'status': 'OK.'}, {'url': 'f35d98e20609e0be6a04ae2604bfb7cb9d5bd5e4', 'status': 'The fix is good but commit message goes beyond overthinking. The doc simply was incorrect and that’s it.'}, {'url': '<b>Full trust</b>', 'status': ''}, {'url': '<b>Full trust</b>', 'status': ''}, {'url': '<b>Full trust</b>', 'status': ''}, {'url': '<b>Full trust</b>', 'status': ''}, {'url': '<b>Full trust</b>', 'status': ''}, {'url': '<b>Full trust</b>', 'status': ''}, {'url': '<b>Full trust</b>', 'status': ''}, {'url': '<b>Full trust</b>', 'status': ''}, {'url': '<b>Full trust</b>', 'status': ''}, {'url': '<b>Full trust</b>', 'status': ''}, {'url': '<b>Full trust</b>', 'status': ''}, {'url': '<b>Full trust</b>', 'status': ''}, {'url': '<b>Full trust</b>', 'status': ''}, {'url': '<b>Full trust</b>', 'status': ''}, {'url': '<b>Full trust</b>', 'status': ''}, {'url': '<b>Full trust</b>', 'status': ''}, {'url': '<b>Full trust</b>', 'status': ''}, {'url': '<b>Full trust</b>', 'status': ''}, {'url': '<b>Full trust</b>', 'status': ''}], 2: [{'url': 'c563a4bc554a96bd0b6aab3c139715b7ec8f6ca3', 'status': 'OK. These are the first commits that update the API docs.'}, {'url': '2c78a83c6faec70154d9eb78022a618ed62cdcb3', 'status': 'OK.'}, {'url': '912af91b10a18fb9bb3167247ecaaefca8248ee9', 'status': 'OK.'}, {'url': 'b8bce89be7fb5bffe5fef4a2782ca9b2b107eaac', 'status': 'OK.'}, {'url': '1dbe12b90cff79bb51923733ac0840747b4b4131', 'status': 'OK (documentation updates).'}, {'url': 'efa498c13b883810497e0ea8a169efd6f48f5026', 'status': 'OK (more documentation updates).'}, {'url': 'c9c8bfae3502842dcead85eeb2b951b437c2cd88', 'status': 'OK.'}, {'url': '14cd30806d69e55906073745bcce3ee50e0ec942', 'status': 'OK (even more documentation updates).'}, {'url': '01441df92c0fd6a6c02fe5ac27982a54ce887cc0', 'status': 'OK (documentation updates continue still).'}, {'url': '9aa7fdeb04c486d2700967090956af88fdccab7e', 'status': 'OK.'}], 3: [{'url': 'f1ab1f6b339d16a53ac53efeb97779ecd2bae70f', 'status': 'OK.'}, {'url': 'f070722b57ba975a0dff36492d766f03026b1d21', 'status': 'This series has intermediate steps that I didn’t like. The end result is good though (the last two commits are by me).'}, {'url': '8f38cdd9ab71e2a9d5a9787550222b7578243b73', 'status': 'With the tweaks that were made later, this is OK enough.'}, {'url': 'af55191102f01e76de658c881299f0909ca0feda', 'status': 'I found and still find these useless additions to the API. He kept insisting on them so eventually I gave in. There’s nothing technically wrong, I just think they don’t improve readability.'}, {'url': '1b7661faa4bbf4a54c6b75900b5059835c382a0f', 'status': 'tuktest.hhad made these obsolete.'}, {'url': 'c97d12f300b2a94c9f54a44c8931c8bc08cf0a73', 'status': 'This is one of the supposedly suspicous commits due to the timezone. In reality Jia put it in my name by common agreement because I had done a significant portion of it.'}, {'url': 'b1216a7772952d2fe7fe9c6acfcbd98d30abbc7b', 'status': 'OK. These will look different after the 5.6.1 release because pre-generated Doxygen output won’t be included in distribution tarballs anymore (not only to reduce the number of generated files but also to simplify the license questions of the source tarball).'}, {'url': '55ba6e93004842ae0a0792214a23504267ad8f43', 'status': 'OK.'}, {'url': '509157c80c500426ec853bd992d684ebafc8500c', 'status': 'OK.'}, {'url': '2c1a830efb61d9d65906a09c9ee3ce27c2c49227', 'status': 'OK.'}, {'url': 'b0891684b4436aed31510fddcbb218d513bd5489', 'status': 'OK.'}, {'url': '0ba234f692772595329d225462d391fe2c199d0a', 'status': 'OK.'}, {'url': '116e81f002c503d3c3cd12726db8f9116e58ef25', 'status': 'OK.'}, {'url': 'ddfe164368e779c40d061aa4ccc376129e92f8e1', 'status': 'OK.'}, {'url': '4d7fac0b07cc722825ba8d7838c558827e635611', 'status': 'OK.'}, {'url': '2cb6028fc31de082b7f927632363bb1426b61aaa', 'status': 'OK.'}], 4: [{'url': '2a89670ab295e377f8b44f5bda6d198deb8ea285', 'status': 'OK.'}], 5: [{'url': '6be460dde07113fe3f08f814b61ddc3264125a96', 'status': 'The error got to themasterbranch because my feedback in the chat came slightly too late. Thus the second commit reverted it. The commit message in the second one likely was supposed to say “if the integer size wasnot32 bits”.'}, {'url': '8f236574986e7c414c0ea059f441982d1387e6a4', 'status': 'OK.'}, {'url': '3374a5359e52f1671d8f831d65827d5020fe2595', 'status': 'OK.'}, {'url': 'f36ca7982f6bd5e9827219ed4f3c5a1fbf5d7bdf', 'status': 'OK.'}], 6: [{'url': '23b5c36fb71904bfbe16bb20f976da38dadf6c3b', 'status': 'Some genuine fixes were needed later but because ifunc support is now gone from the package, these commits aren’t relevant anymore.'}, {'url': 'ee44863ae88e377a5df10db007ba9bfadde3d314', 'status': 'These are my commits that Jia merged. Since ifunc support is now gone from themasterbranch, these commits aren’t relevant anymore.'}, {'url': 'fe3bd438fb119f9bad3f08dc29d331e4956196e1', 'status': 'OK. An inline function could have been better than a macro.'}, {'url': '66bdcfa85fef2911cc80f5f30fed3f9610faccb4', 'status': 'OK.'}], 7: [{'url': '2c189bb00af73dc7ba1a67a9d274d5be03ee3a88', 'status': 'OK. I think the CI setup with various build configs helped to spot this.'}, {'url': '9ded880a0221f4d1256845fc4ab957ffd377c760', 'status': 'OK.'}, {'url': '5f3b898d07cc9b7160c7c88b3120b7edabb8a5b0', 'status': 'OK.'}, {'url': 'a6583726e5f950278f96abcf79c04f1056810be6', 'status': 'OK.'}, {'url': '3d21da5cff4b511633cb6e0d8a1090485c0c1059', 'status': 'OK.str_to_filterwas renamed to more correct pluralstr_to_filterstwo commits later.'}, {'url': '072d29250113268536719ad0e040ab8a66fb6435', 'status': 'OK.'}, {'url': 'd6af7f347077b22403133239592e478931307759', 'status': 'It’s OK as an intermediate step. The next commits improve things.'}, {'url': 'f281cd0d692ac0c70fc7669b80dddb863ea947e1', 'status': 'OK.'}, {'url': 'f86ede22500f7ae024ec3ec3f3489ab5a857a3b3', 'status': 'OK.'}, {'url': '479fd58d60622331fcbe48fddf756927b9f80d9a', 'status': 'OK.'}, {'url': '5f0c5a04388f8334962c70bc37a8c2ff8f605e0a', 'status': 'This does what it is supposed to do but it needed cleaning up:'}, {'url': 'afb2dbec3d857b026486b75e42a4728e12d234cb', 'status': 'OK. Using multiple filter chains with--flush-timeoutisn’t a likely use case but this isn’t much extra code either.'}, {'url': 'fe4d8b0c80eaeca3381be302eeb89aba871a7e7c', 'status': 'However, it’s better to collect the required information inparse_block_list()because it avoids the need to loop through theopt_block_listarray. I did that change in 2024-05, thus not a lot remains from this commit.'}, {'url': '8b9913a13daca2550d02dfdcdc9be15f55ca4d13', 'status': 'OK'}, {'url': '47a63cad2aa778280e0c1926b7159427ea028cb1', 'status': 'OK.'}, {'url': '95f1a414b156ee35d3e71862a14915fdd138f913', 'status': 'OK.'}, {'url': 'a165d7df1964121eb9df715e6f836a31c865beef', 'status': 'OK.'}, {'url': '9628be23aef2784249fd9f3199799d785d2ec5cc', 'status': 'OK.'}, {'url': 'f5dc172a402fa946f3c45a16929d7fe14c9f5e81', 'status': 'OK. As the commit message says, it only reorders lines. The following can be helpful:'}, {'url': 'e10f2db5d10300c16fa482a136ed31c1aa6e8e8d', 'status': 'OK.'}, {'url': 'c12e429f2635da8d8f5749e5f733f451baca6945', 'status': 'OK.'}, {'url': '9adc9e56157ecbf2948e5036df8567809b9ae177', 'status': 'OK'}, {'url': 'f907705eb1f6c5edaafc9668a34c51a989932f1d', 'status': 'OK.'}, {'url': 'f99e2e4e53b7ea89e4eef32ddd4882e0416357c9', 'status': 'OK.'}, {'url': '289034a168878baa9df6ff6e159110aade69cba5', 'status': 'OK. We had been asked how to cross-compile on one machine but then run the tests on the target machine, so it was good to document it.'}, {'url': '818701ba1c9dff780b7fbf28f9ab8eb11a25dd67', 'status': 'OK.'}, {'url': '43845fa70fc751736c44c18f4cee42d49bfd1392', 'status': 'OK.'}, {'url': '0184d344fa4f215cd345bb131db9068e077c69b8', 'status': 'OK but it’s gone from themasternow.'}, {'url': '194d12724b30fe42789d12a0184f9d412c449347', 'status': 'OK.'}, {'url': '39a32d36fc465c4e70f13192eea380e518ba6e8a', 'status': 'OK. It makestest_files.shuse exit status 77 (skipped test) when the feature isn’t configured instead of exit status 0 (passed test).'}, {'url': 'd9166b52cf3458a4da3eb92224837ca8fc208d79', 'status': 'OK.'}, {'url': '01cbb7f023ee7fda8ddde04bd17cf7d3c2418706', 'status': 'OK.'}], 8: [{'url': 'cd678a6077358935249b64a4a16fe8d17434f9c9', 'status': 'OK.'}, {'url': '6bf33b704cd31dccf25e68480464aa22d3fcad5a', 'status': 'OK.'}, {'url': 'de574404c4c2f87aca049f232c38526e3ce092aa', 'status': 'OK.'}, {'url': 'ae5c07b22a6b3766b84f409f1b6b5c100469068a', 'status': 'This was pondered for a while and determined thatin practicethe only problem was an assertion failure (but assertions rarely are enabled for production code). A proper fix was good to do still.'}, {'url': '2544274a8b8a27f4ea6c457d2c4c32eb1e4cd336', 'status': 'The diff might appear misleading. The intent is to move the comment but diff shows it as a move of thelzma_index_endcall.'}], 9: [{'url': '5d691fe58286b92d704c0dc5cd0c4df22881c6c6', 'status': 'OK.'}, {'url': '7379bb3eed428c0ae734d0cc4a1fd04359d53f08', 'status': 'OK.'}, {'url': '9834e591a4cf9dc2f49e42e26bf28d1d247bc196', 'status': 'These are OK, including getopt.m4 which was simplified a lot. xz doesn’t need support for all corner cases of getopt_long so checking for those corner cases isn’t needed either.'}, {'url': '1c1a8c3ee4dad0064dbe63b8dbc4ac4bc679f419', 'status': 'To verify these commits, the following can be helpful:'}], 10: [{'url': 'f74f1740067b75042497edbfa6ea457ff75484b9', 'status': 'It matches the file in Gnulib.'}, {'url': '419f55f9dfc2df8792902b8953d50690121afeea', 'status': 'The final version is fine.'}, {'url': '4f44ef86758a41a8ec814096f4cb6ee6de04c82e', 'status': 'This attribute is obviously scary but it is unfortunately required with this version of the x86 SIMD code. The code makes aligned 16-byte reads which may read up to 15 bytes before the beginning or past the end of the buffer if the buffer is misaligned. The unneeded bytes are then ignored. It cannot cross page boundaries and thus cannot cause access violations.'}, {'url': '139757170468f0f1fafdf0a8ffa74363d1ea1d0c', 'status': 'OK.'}, {'url': '105c7ca90d4152942e0798580a37f736d02faa22', 'status': 'OK.'}, {'url': '148e20607e95781558bdfc823ecba07b7af4b590', 'status': 'OK.'}], 11: [{'url': '2ade7246e7ba729a91460d2fab0f4c7b89d3998b', 'status': 'OK.'}, {'url': '584e3a258f32d579b1d07f99b4dc6e856c10ac7e', 'status': 'These are good although I clarified a comment in the next commit. It fixed a very old bug in Windows build of xz.'}, {'url': 'ff7badef53c2cd698d4b72b945f34dfd0835e13c', 'status': 'It really is just space change, no dots.'}], 12: [{'url': 'ee2f48350099201694a7586e41d7aa2f09fc74da', 'status': 'OK. Needed one minor comment fix.'}, {'url': 'd0b24efe6cdc47db5b0fdf6306f70a2e0e63e49e', 'status': 'OK.'}, {'url': 'e1b1a9d6370b788bd6078952c6c201e12bc27cbf', 'status': 'The URL is correct.'}, {'url': '5dad6f628af742bab826819760deb677597445f7', 'status': 'OK.optionsdefinitely must not beNULL, and in practice it never is because it would be a bug in the application too.'}, {'url': '55810780e04f759747b02683fb8020b8cd022a85', 'status': 'OK, just like the commit message says.'}, {'url': 'b34b6a9912d6165e34ba0db151b7f9941d2e06d5', 'status': 'The bug isn’t as serious as the commit message makes it sound as no one has a reason to calllzma_filters_updateon a LZMA1 encoder, a function that is very rarely used anyway.'}, {'url': 'd74fb5f060b76db709b50f5fd37490394e52f975', 'status': 'The order of the macros in the#ifdirective is different from src/xz/sandbox.h but the directive is correct still.'}, {'url': '5feb09266fd2928ec0a4dcb98c1dc7f053111316', 'status': 'OK.'}, {'url': 'ebddf20214143a8e002ab897e95e880bb4c5ac44', 'status': 'This moves code around and edits it a little. Comparing the moved sections shows it’s fine including the small edits. No suspicious typos (like mispellingSANDBOX_COMPILE_DEFINITION) are apparent.'}]}), 2022: defaultdict(<class 'list'>, {12: [{'url': '8ace358d65059152d9a1f43f4770170d29d35754', 'status': 'OK.'}, {'url': '5f7ce42a16b1e86ca8408b5c670c25e2a12acc4e', 'status': 'OK.'}, {'url': '799ead162de63b8400733603d3abcd2e1977bdca', 'status': 'OK.'}, {'url': '7c9ff5f1667a16733163b75dfd4b509662c387f4', 'status': 'test_lzip_decoder.chas got a several minor tweaks later but overall this was a fine start.'}, {'url': '1275ebfba74230dbd028049141423c79c8b83b8f', 'status': 'OK.'}, {'url': '74dae7d30091e906d6a92a57952dea4354473f9b', 'status': 'The default behavior ofAC_CHECK_DECLScan feel a bit awkward so these changes are nice.'}, {'url': 'f82294c8318a7a0990583d51ac5c7de682ad36ef', 'status': 'OK.'}, {'url': '2fcba17fc4d7eda8fc60567169cf2a0e6fcfb2f8', 'status': 'OK.'}]}), 2024: defaultdict(<class 'list'>, {1: [{'url': '440a2eccb082dc13400c09e22308a58fef85146c', 'status': 'Theriscv.cfile in this commit was almost solely written by me and matched the file I had outside of the Git tree. Jia did some minor work on it like adding macros to avoid repeated code and a few comment improvements. Those I reviewed and edited further.'}, {'url': '2959dbc7358efcf421ce51bc9cd7eae8fdd8fec4', 'status': 'OK.'}, {'url': 'e2870db5be1503e6a489fc3d47daf950d6f62723', 'status': 'This is the first commit preparing for the backdoor.'}, {'url': 'db5eb5f563e8baa8d912ecf576f53391ff861596', 'status': 'It’s very similar to the ARM64 code below the new code.'}, {'url': '50255feeaabcc7e7db22b858a6bd64a9b5b4f16d', 'status': 'I did author these.'}, {'url': '44ff2fa5c94dc345c4dd69195a19fc5238df60b3', 'status': 'This is fine although now that the backdoor has been removed, this commit alone doesn’t do anything. But I left it there so that it’s readyifproper files along with a generator program are added.'}, {'url': '3060e1070b2421b26c0e17794c1307ec5622f11d', 'status': 'I had mentioned the dictionary size and that gave a good excuse to update something in the backdoor code.'}, {'url': 'a2dd2dc8e5307a7280bb99868bc478560facba2c', 'status': 'OK.'}, {'url': '849d0f282a6a890c5cf5a0e0f02980b12d9ebb0f', 'status': 'There is some churn in these commits so it’s simplest to review only the final outcome.'}], 2: [{'url': '45663443eb2b377e6171529380fee312f1adcdf4', 'status': 'OK.'}, {'url': '89ea1a22f4ed3685b053b7260bc5acf6c75d1664', 'status': 'OK.'}, {'url': 'e446ab7a18abfde18f8d1cf02a914df72b1370e3', 'status': 'These are good and were created at my request. They are big but it’s hard to split them into smaller pieces. The original versions of these are from 2023-04-24. I made small edits but it was agreed that I would commit these in his name.'}, {'url': 'e0c0ee475c0800c08291ae45e0d66aa00d5ce604', 'status': 'XZ Embedded has had somewhat comparable code with the per-loop 20-byte check since the beginning (2009) and it’s been in the Linux kernel since 2010.'}, {'url': '4323bc3e0c1e1d2037d5e670a3bf6633e8a3031e', 'status': 'Modified build-to-host.m4 had the backdoor trigger. Ignoring the file here is correct because it is added among several other .m4 files when running./autogen.shorautoreconf -fi.'}, {'url': '32b0a3ce19224f9074d01a4ffbc1655b05fcb82d', 'status': 'OK.'}, {'url': 'eea78216d27182ca917bf00e02feaab058a4d21e', 'status': 'This is correct.'}, {'url': 'adaacafde6661496ca2814b1e94a3ba5186428cb', 'status': 'I didn’t like the extra macro that had been added solely for this test. The last commit does more than reverting a single commit but the change is OK.'}, {'url': '39f4a1a86ad80b2d064b812cee42668e6c8b8c73', 'status': 'This test assumes that the encoder output doesn’t change, that is, the test will fail if the encoder is modified too much. If the encoder is modified, updating the test to match isn’t much extra to do.'}, {'url': 'cf44e4b7f5dfdbf8c78aef377c10f71e274f63c0', 'status': 'Backdoor files.'}, {'url': '898aad9fc711e03452d24d9e2c5b7f77a6f9ce64', 'status': 'We discussed this and I agreed to it. This way man page translations didn’t need to go via translators in the last days of the release rush to fix a typo in the English source text.'}, {'url': '5d8d915ebe2e345820a0f54d1baf8d7d4824c0c7', 'status': 'The symbol name was supposed to beXZ_5.6notXZ_5.6.0. It makes no difference in practice as it is merely a string.'}, {'url': '8bf9f72ee1c05b9e205a72807e8a9e304785673d', 'status': 'OK. He liked to run codespell while I didn’t.'}, {'url': '9eed1b9a3ae140e93a82febc05a0181e9a4f5093', 'status': 'He fixed it because I noticed it. Clearly the test file had been written some time ago already.'}, {'url': 'eb8ad59e9bab32a8d655796afd39597ea6dcc64d', 'status': 'OK.'}, {'url': 'eee579fff50099ba163c12305e81a4bd42b7dd53', 'status': 'The need to add this fix had been discussed.'}, {'url': 'bbf112e32307a75a54a9e170bc392811443d5c87', 'status': 'This was discussed in length with multiple people. The commit matches what was decided.'}], 3: [{'url': '82ecc538193b380a21622aea02b0ba078e7ade92', 'status': 'It’s one of the backdoor commits.'}, {'url': '8c9b8b2063daa78ead9f648c2ec3c91e8615dffb', 'status': 'More backdoor commits.'}, {'url': 'eee579fff50099ba163c12305e81a4bd42b7dd53', 'status': 'When translations are sent to the translators, they will remake these changes anyway (they only pick the original English text from the tarball).'}, {'url': 'af071ef7702debef4f1d324616a0137a5001c14c', 'status': 'I got the impression that a lot of speculation happened around this commit.'}]})})\n"
     ]
    }
   ],
   "source": [
    "print(timeline)"
   ]
  },
  {
   "cell_type": "code",
   "execution_count": 40,
   "id": "8bcc8475-5093-44a4-9b37-868a2faaf2ea",
   "metadata": {},
   "outputs": [
    {
     "name": "stdout",
     "output_type": "stream",
     "text": [
      "None\n"
     ]
    }
   ],
   "source": [
    "                commits = div.find_all(\"a\")\n",
    "                \n",
    "                for commit in commits:\n",
    "                    url = commit.get(\"href\")\n",
    "                    description = commit.parent.parent.find_next_sibling()\n",
    "                    print(description)\n",
    "                    \n",
    "                    if \"github\" in url:\n",
    "                        commit_info = {\n",
    "                            \"url\": url,\n",
    "                            \"status\": \"TODO\"\n",
    "                        }\n",
    "                        timeline[year][month].append(commit_info)\n",
    "                "
   ]
  },
  {
   "cell_type": "code",
   "execution_count": null,
   "id": "c9b4a1c9-7a4c-479e-9bd0-9205a7cd598c",
   "metadata": {},
   "outputs": [],
   "source": []
  }
 ],
 "metadata": {
  "kernelspec": {
   "display_name": "Python 3 (ipykernel)",
   "language": "python",
   "name": "python3"
  },
  "language_info": {
   "codemirror_mode": {
    "name": "ipython",
    "version": 3
   },
   "file_extension": ".py",
   "mimetype": "text/x-python",
   "name": "python",
   "nbconvert_exporter": "python",
   "pygments_lexer": "ipython3",
   "version": "3.11.9"
  }
 },
 "nbformat": 4,
 "nbformat_minor": 5
}
