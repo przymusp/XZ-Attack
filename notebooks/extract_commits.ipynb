{
 "cells": [
  {
   "cell_type": "code",
   "execution_count": 1,
   "id": "55b3893d-abb8-44a0-8488-26946afba340",
   "metadata": {},
   "outputs": [],
   "source": [
    "import tqdm\n",
    "from collections import Counter\n",
    "from glob import glob\n",
    "import os\n",
    "from git import Repo\n"
   ]
  },
  {
   "cell_type": "code",
   "execution_count": 9,
   "id": "cedc97ed-b5c3-4ed2-845f-06ddb5f9f94c",
   "metadata": {},
   "outputs": [
    {
     "name": "stderr",
     "output_type": "stream",
     "text": [
      "154it [00:00, 5638.29it/s]\n",
      "10281it [00:00, 27328.38it/s]\n",
      "77it [00:00, 14300.45it/s]\n",
      "2533it [00:00, 2628.26it/s]\n",
      "38it [00:00, 714.64it/s]\n",
      "16942it [00:00, 25787.93it/s]\n",
      "12015it [00:00, 28316.66it/s]\n",
      "236it [00:00, 14844.64it/s]\n",
      "6061it [00:00, 26328.10it/s]\n"
     ]
    }
   ],
   "source": [
    "author_email = 'jiat0218@gmail.com'  \n",
    "BASE_DIR = \"../affected_commits\"\n",
    "os.makedirs(BASE_DIR, exist_ok=True)\n",
    "\n",
    "for d in glob(\"../affected_repositories/*\"):\n",
    "    repo_name = d.split(\"/\")[-1]\n",
    "    repo = Repo.init(d, bare=False)\n",
    "    \n",
    "    repo_dir = f\"{BASE_DIR}/{repo_name}\"\n",
    "    os.makedirs(repo_dir, exist_ok=True)\n",
    "    \n",
    "    for commit in tqdm.tqdm(repo.iter_commits()):\n",
    "        if commit.author.email == author_email:\n",
    "            diff = repo.git.show(commit.hexsha)\n",
    "            C_DIR = f\"{repo_dir}/{commit.hexsha}/patches\"\n",
    "            os.makedirs(C_DIR, exist_ok=True)\n",
    "            with open(f\"{C_DIR}/{commit.hexsha}.diff\", \"w\") as f:\n",
    "                f.write(diff)"
   ]
  }
 ],
 "metadata": {
  "kernelspec": {
   "display_name": "Python 3 (ipykernel)",
   "language": "python",
   "name": "python3"
  },
  "language_info": {
   "codemirror_mode": {
    "name": "ipython",
    "version": 3
   },
   "file_extension": ".py",
   "mimetype": "text/x-python",
   "name": "python",
   "nbconvert_exporter": "python",
   "pygments_lexer": "ipython3",
   "version": "3.11.9"
  }
 },
 "nbformat": 4,
 "nbformat_minor": 5
}
