{
 "cells": [
  {
   "cell_type": "code",
   "execution_count": 9,
   "id": "55b3893d-abb8-44a0-8488-26946afba340",
   "metadata": {},
   "outputs": [],
   "source": [
    "import tqdm\n",
    "from collections import Counter\n",
    "from glob import glob\n",
    "import os\n",
    "from git import Repo\n"
   ]
  },
  {
   "cell_type": "code",
   "execution_count": 10,
   "id": "0d3e01be-9da0-4c0a-94a5-4b18b78f4b8d",
   "metadata": {},
   "outputs": [],
   "source": [
    "def write_diff(CDIR, repo, commit, context=100000):\n",
    "    diff = repo.git.show(commit.hexsha, unified=context)\n",
    "    \n",
    "    postfix = \"\"\n",
    "    if context != 100000:\n",
    "        postfix = f\"_{context}\"\n",
    "    \n",
    "    with open(f\"{C_DIR}/{commit.hexsha}{postfix}.diff\", \"w\") as f:\n",
    "        f.write(diff) \n",
    "    "
   ]
  },
  {
   "cell_type": "code",
   "execution_count": 11,
   "id": "cedc97ed-b5c3-4ed2-845f-06ddb5f9f94c",
   "metadata": {},
   "outputs": [
    {
     "name": "stderr",
     "output_type": "stream",
     "text": [
      "154it [00:00, 1514.35it/s]\n",
      "10281it [00:00, 17086.74it/s]\n",
      "77it [00:00, 7055.10it/s]\n",
      "2533it [00:03, 709.77it/s] \n",
      "38it [00:00, 265.62it/s]\n",
      "16942it [00:00, 16952.14it/s]\n",
      "12015it [00:00, 17614.18it/s]\n",
      "236it [00:00, 7500.78it/s]\n",
      "6061it [00:00, 16031.23it/s]\n"
     ]
    }
   ],
   "source": [
    "author_email = 'jiat0218@gmail.com'  \n",
    "BASE_DIR = \"../affected_commits\"\n",
    "os.makedirs(BASE_DIR, exist_ok=True)\n",
    "\n",
    "for d in glob(\"../affected_repositories/*\"):\n",
    "    repo_name = d.split(\"/\")[-1]\n",
    "    repo = Repo.init(d, bare=False)\n",
    "    \n",
    "    repo_dir = f\"{BASE_DIR}/{repo_name}\"\n",
    "    os.makedirs(repo_dir, exist_ok=True)\n",
    "    \n",
    "    for commit in tqdm.tqdm(repo.iter_commits()):\n",
    "        if commit.author.email == author_email:\n",
    "            C_DIR = f\"{repo_dir}/{commit.hexsha}/patches\"\n",
    "            os.makedirs(C_DIR, exist_ok=True)\n",
    "            write_diff(C_DIR, repo, commit)\n",
    "            #write_diff(C_DIR, repo, commit, 5)\n",
    "            \n"
   ]
  },
  {
   "cell_type": "code",
   "execution_count": 12,
   "id": "49e57de9-3dc9-4733-95a3-7254377269e5",
   "metadata": {},
   "outputs": [
    {
     "name": "stderr",
     "output_type": "stream",
     "text": [
      "154it [00:00, 1603.08it/s]\n",
      "10281it [00:00, 17272.31it/s]\n",
      "77it [00:00, 7214.76it/s]\n",
      "2533it [00:04, 618.70it/s]\n",
      "38it [00:00, 310.47it/s]\n",
      "16942it [00:01, 15338.64it/s]\n",
      "12015it [00:00, 15286.12it/s]\n",
      "236it [00:00, 8176.10it/s]\n",
      "6061it [00:00, 15285.45it/s]\n"
     ]
    }
   ],
   "source": [
    "author_email = 'jiat0218@gmail.com'  \n",
    "BASE_DIR = \"../main_contributor_commits\"\n",
    "os.makedirs(BASE_DIR, exist_ok=True)\n",
    "\n",
    "for d in glob(\"../affected_repositories/*\"):\n",
    "    repo_name = d.split(\"/\")[-1]\n",
    "    repo = Repo.init(d, bare=False)\n",
    "    \n",
    "    repo_dir = f\"{BASE_DIR}/{repo_name}\"\n",
    "    os.makedirs(repo_dir, exist_ok=True)\n",
    "    \n",
    "    for commit in tqdm.tqdm(repo.iter_commits()):\n",
    "        if commit.author.email == author_email:\n",
    "            C_DIR = f\"{repo_dir}/{commit.hexsha}/patches\"\n",
    "            os.makedirs(C_DIR, exist_ok=True)\n",
    "            write_diff(C_DIR, repo, commit)\n",
    "            #write_diff(C_DIR, repo, commit, 5)\n",
    "            \n"
   ]
  },
  {
   "cell_type": "code",
   "execution_count": null,
   "id": "c1c016a7-17df-4e1d-a03c-bca2b12b84bb",
   "metadata": {},
   "outputs": [],
   "source": []
  }
 ],
 "metadata": {
  "kernelspec": {
   "display_name": "Python 3 (ipykernel)",
   "language": "python",
   "name": "python3"
  },
  "language_info": {
   "codemirror_mode": {
    "name": "ipython",
    "version": 3
   },
   "file_extension": ".py",
   "mimetype": "text/x-python",
   "name": "python",
   "nbconvert_exporter": "python",
   "pygments_lexer": "ipython3",
   "version": "3.11.9"
  }
 },
 "nbformat": 4,
 "nbformat_minor": 5
}
